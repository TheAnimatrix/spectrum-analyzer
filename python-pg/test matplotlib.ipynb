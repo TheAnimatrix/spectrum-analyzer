{
 "cells": [
  {
   "cell_type": "code",
   "execution_count": 4,
   "metadata": {
    "scrolled": true
   },
   "outputs": [],
   "source": [
    "%matplotlib inline"
   ]
  },
  {
   "cell_type": "code",
   "execution_count": 5,
   "metadata": {},
   "outputs": [],
   "source": [
    "import matplotlib.figure as mp"
   ]
  },
  {
   "cell_type": "markdown",
   "metadata": {},
   "source": [
    "**_THIS IS A COMMAND TO BRING UP A QUICK IPYTHON REF FOR MAGIC COMMANDS AND SUCH_**\n",
    "\n",
    "%quickref\n",
    "\n",
    "```\n",
    "git yolo\n",
    "```\n",
    "\n"
   ]
  },
  {
   "cell_type": "markdown",
   "metadata": {},
   "source": [
    "##### just a quick markdown reference\n",
    "#### just a quickie\n",
    "\n",
    "**bold** _italic_ **_bold and italic_** *italic*\n",
    "\n",
    "[markdown quick ref](%quickref) *is for links*\n",
    "\n",
    "`` quoting block type 1 `` <br/>\n",
    "` quote block type 2`\n",
    "\n",
    "```\n",
    "quote block for code type 3\n",
    "```\n",
    "\n",
    ">quoting final type\n",
    "\n",
    "##### lists are fun\n",
    "\n",
    "\n",
    "1. world\n",
    "2. hello\n",
    "- hey!\n",
    "\n",
    "TODO :\n",
    "\n",
    "- [x] \\(escape this) learn markdown <br/>\n",
    "- [ ] learn matplotlib\n",
    "\n",
    "emoji ? <span style=\"color:red\"> nope </span>"
   ]
  },
  {
   "cell_type": "code",
   "execution_count": null,
   "metadata": {},
   "outputs": [],
   "source": []
  }
 ],
 "metadata": {
  "kernelspec": {
   "display_name": "Python 2",
   "language": "python",
   "name": "python2"
  },
  "language_info": {
   "codemirror_mode": {
    "name": "ipython",
    "version": 2
   },
   "file_extension": ".py",
   "mimetype": "text/x-python",
   "name": "python",
   "nbconvert_exporter": "python",
   "pygments_lexer": "ipython2",
   "version": "2.7.15"
  }
 },
 "nbformat": 4,
 "nbformat_minor": 2
}
